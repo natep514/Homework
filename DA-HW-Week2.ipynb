{
 "cells": [
  {
   "attachments": {},
   "cell_type": "markdown",
   "metadata": {},
   "source": [
    "<div><img src=\"https://raw.githubusercontent.com/natep514/Homework/main/Images/savvy%20coders%20logo.webp\" style=\"height:35px;object-fit:cover;\"></div>\n",
    "\n",
    "# Week 2 Homework\n",
    "\n",
    "<div><img src=\"https://raw.githubusercontent.com/natep514/Homework/main/Images/kitten-cat.gif\" style=\"height:px;object-fit:cover;\"></div>\n",
    "\n",
    "___\n",
    "\n",
    "1. **What kind of language is Python considered?**\n",
    "   * A high-level, formal, and interpreted language.\n",
    "2. **What's a natural language?**\n",
    "   * Spoken languages that form on their own.\n",
    "3.  **Is Python a Natural or a Formal Language?**\n",
    "    * A formal Language.\n",
    "4. **What are Algorithms?**\n",
    "    * A series of steps to solve a problem at hand.\n",
    "5. **Why is Python considered to be a high-level language?**\n",
    "    * It is more like a natural language, takes less time to write, shorter and easier to read, and more likley to be correct/error free when we run them.\n",
    "6. **What is a Semantic error?**\n",
    "    * Code is grammatically correct but doesn't make any sense; it does not produce expected results.\n",
    "7. **What is the #1 rule of coding/debugging?**\n",
    "    * Complexity is the enemy of efficiency.\n",
    "___\n",
    "<div\n",
    "class=\"alert alert-info\">\"Python is fast enough for our site and allows us to produce maintainable features in record times, with a minimum of developers,\" - Cuong Do, Software Architect, YouTube.</div>\n",
    "\n",
    "<br />\n",
    "<br />\n",
    "\n",
    "<div><img src=\"https://raw.githubusercontent.com/natep514/Homework/main/Images/savvy%20coders%20logo.webp\" style=\"height:35px;object-fit:cover;\"></div>\n",
    "\n",
    "\n"
   ]
  },
  {
   "cell_type": "code",
   "execution_count": null,
   "metadata": {},
   "outputs": [],
   "source": [
    "print(\"Hello World\")"
   ]
  }
 ],
 "metadata": {
  "kernelspec": {
   "display_name": "Python 3",
   "language": "python",
   "name": "python3"
  },
  "language_info": {
   "name": "python",
   "version": "3.11.1"
  },
  "orig_nbformat": 4,
  "vscode": {
   "interpreter": {
    "hash": "f724a366714f25b66fce619067dde66cfbb573861569ab468eca327aa4cfb241"
   }
  }
 },
 "nbformat": 4,
 "nbformat_minor": 2
}
