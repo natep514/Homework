{
 "cells": [
  {
   "attachments": {},
   "cell_type": "markdown",
   "metadata": {},
   "source": [
    "<div><img src=\"https://img.freepik.com/free-vector/data-concept-illustration-idea-collecting-analysing-using_613284-1574.jpg?w=2000&t=st=1675453630~exp=1675454230~hmac=5da7fe00286a8d34accb1c2f5caa700224cafbffa904fcfabb4d4f506d22d838\" style=\"height:150px;width: 600px\"></div>\n",
    "\n",
    "# Week 2 Homework\n",
    "\n",
    "<div><img src=\"https://media.tenor.com/xATuBt2dRhwAAAAC/kitten-cat.gif\" style=\"height:px;object-fit:cover;\"></div>\n",
    "\n",
    "___\n",
    "\n",
    "1. **What kind of language is Python considered?**\n",
    "   * A high-level, formal, and interpreted language.\n",
    "2. **What's a natural language?**\n",
    "   * Spoken languages that form on their own.\n",
    "3.  **Is Python a Natural or a Formal Language?**\n",
    "    * A formal Language.\n",
    "4. **What are Algorithms?**\n",
    "    * A series of steps to solve a problem at hand.\n",
    "5. **Why is Python considered to be a high-level language?**\n",
    "    * It is more like a natural language, takes less time to write, shorter and easier to read, and more likley to be correct/error free when we run them.\n",
    "6. **What is a Semantic error?**\n",
    "    * Code is grammatically correct but doesn't make any sense; it does not produce expected results.\n",
    "7. **What is the #1 rule of coding/debugging?**\n",
    "    * Complexity is the enemy of efficiency.\n",
    "___\n",
    "<div\n",
    "class=\"alert alert-info\">\"Python is fast enough for our site and allows us to produce maintainable features in record times, with a minimum of developers,\" - Cuong Do, Software Architect, YouTube.</div>\n",
    "\n",
    "<br />\n",
    "<br />\n",
    "<div><img src=\"https://savvycoders.com/wp-content/uploads/2018/08/SavvyCoders-Horizontal-Color-Logo_1@3x.png\" style=\"height:35px;object-fit:cover;\"></div>\n",
    "\n",
    "\n"
   ]
  }
 ],
 "metadata": {
  "kernelspec": {
   "display_name": "Python 3",
   "language": "python",
   "name": "python3"
  },
  "language_info": {
   "name": "python",
   "version": "3.8.9"
  },
  "orig_nbformat": 4,
  "vscode": {
   "interpreter": {
    "hash": "31f2aee4e71d21fbe5cf8b01ff0e069b9275f58929596ceb00d14d90e3e16cd6"
   }
  }
 },
 "nbformat": 4,
 "nbformat_minor": 2
}
