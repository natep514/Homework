{
 "cells": [
  {
   "attachments": {},
   "cell_type": "markdown",
   "metadata": {},
   "source": [
    "<div><img src=\"https://savvycoders.com/wp-content/uploads/2018/08/SavvyCoders-Horizontal-Color-Logo_1@3x.png\" style=\"height:20px;object-fit:cover;\"></div>\n",
    "\n",
    "# Data Analytics Week 2 Homework\n",
    "___\n",
    "\n",
    "1. **What kind of language is Python considered?**\n",
    "   * A high-level, formal, and interpreted language.\n",
    "\n",
    "2. **What's a natural language?**\n",
    "   * Spoken languages that form on their own.\n",
    "\n",
    "3.  **Is Python a Natural or a Formal Language?**\n",
    "    * A formal Language.\n",
    "\n",
    "4. **What are Algorithms?**\n",
    "    * A series of steps to solve a problem at hand.\n",
    "\n",
    "5. **Why is Python considered to be a high-level language?**\n",
    "    * It is more like a natural language, takes less time to write, shorter and easier to read, and more likley to be correct/error free when we run them.\n",
    "\n",
    "6. **What is a Semantic error?**\n",
    "    * Code is grammatically correct but doesn't make any sense; it does not produce expected results.\n",
    "\n",
    "7. **What is the #1 rule of coding/debugging?**\n",
    "    * Complexity is the enemy of efficiency.\n",
    "___\n",
    ">I suggested holding a \"Python Object Oriented Programming Seminar\", but the acronym was unpopular. -Joseph Strout \n",
    "\n",
    "<br />\n",
    "<br />\n",
    "<div><img src=\"https://savvycoders.com/wp-content/uploads/2018/08/SavvyCoders-Horizontal-Color-Logo_1@3x.png\" style=\"height:20px;object-fit:cover;\"></div>\n",
    "\n",
    "\n"
   ]
  }
 ],
 "metadata": {
  "kernelspec": {
   "display_name": "Python 3",
   "language": "python",
   "name": "python3"
  },
  "language_info": {
   "name": "python",
   "version": "3.8.9"
  },
  "orig_nbformat": 4,
  "vscode": {
   "interpreter": {
    "hash": "31f2aee4e71d21fbe5cf8b01ff0e069b9275f58929596ceb00d14d90e3e16cd6"
   }
  }
 },
 "nbformat": 4,
 "nbformat_minor": 2
}
