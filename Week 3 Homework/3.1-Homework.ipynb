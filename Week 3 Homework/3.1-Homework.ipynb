{
 "cells": [
  {
   "attachments": {},
   "cell_type": "markdown",
   "metadata": {},
   "source": [
    "<div><img src=\"https://raw.githubusercontent.com/natep514/Homework/main/Images/savvy%20coders%20logo.jpg\" style=\"height:35px;object-fit:cover;\"></div>\n",
    "\n",
    "___\n",
    "# 3.1 Python Homework\n",
    "___\n",
    "\n",
    "<div><img src=\"https://raw.githubusercontent.com/natep514/Homework/main/Images/laughhard-homework.gif\" style=\"height:px;object-fit:cover;\"></div>\n",
    "\n",
    "___\n",
    "## Data Types\n",
    "___\n",
    "\n",
    "1. **What is an algorithm?**\n",
    "    * A series of steps to solve a problem at hand.\n",
    "2. **Why is Python considered to be a high-level language?**\n",
    "    * It is more like a natural language, takes less time to write, shorter and easier to read, and more likley to be correct/error free when we run them.\n",
    "3. **Is Python a Natural or a Formal Language?**\n",
    "    * A formal Language.\n",
    "4. **Variable names may not start with certain characters - name two**\n",
    "    * Numbers\n",
    "    * Symbols\n",
    "5. **What is a Semantic error?**\n",
    "    * Code is grammatically correct but doesn't make any sense; it does not produce expected results.\n",
    "6. **What is the #1 rule of coding/debugging?**\n",
    "    * Complexity is the enemy of efficiency.\n",
    "7.  **List 5 Python reserved words.**\n",
    "    * if\n",
    "    * else\n",
    "    * is\n",
    "    * return\n",
    "    * True/False\n",
    "8.  **Python Coding Article**\n",
    "    * https://www.section.io/engineering-education/why-python-is-essential-for-data-analysis/\n",
    "\n",
    "<div\n",
    "class=\"alert alert-info\">\"Without big data analytics, companies are blind and deaf, wandering out onto the web like deer on a freeway.”\n",
    "~ Geoffrey Moore, management consultant and author of Crossing the Chasm</div>\n",
    "\n",
    "<br />\n",
    "<br />\n"
   ]
  },
  {
   "cell_type": "code",
   "execution_count": 1,
   "metadata": {},
   "outputs": [
    {
     "name": "stdout",
     "output_type": "stream",
     "text": [
      "13\n",
      "o\n",
      "ing Data Analytics \n",
      "Learning Data Analytics and Python is great!\n",
      "Yes. 'Python' is present.\n",
      "Hi, my name is Nate, I am 71 inches tall, and 41 years old today.\n",
      "Hi, my name is Nate, I am 71 inches tall, and 41 years old today.\n",
      "41.0\n",
      "test\n"
     ]
    }
   ],
   "source": [
    "# Write a multi-line comment with your name, favorite food, and dream job on 3 different lines.\n",
    "\"\"\"\n",
    "Name: Nathaniel Patten\n",
    "Favorite Food: Authentic Japanese Ramen\n",
    "Dream Job: Pro Golfer/Retired\n",
    "\"\"\"\n",
    "\n",
    "# assign 5 different data types to 5 different variables. At least one datatype must be a string.\n",
    "x = int(4.6)\n",
    "y = float(2)\n",
    "z = \"Juno is a cat\"\n",
    "a = [1,2,3,4,5]\n",
    "b = {\"c\": \"Jasper\", \"d\": \"Jinx\"}\n",
    "\n",
    "# print the length of your string.\n",
    "print(len(z))\n",
    "\n",
    "# print the the index value of the 4th character in your string.\n",
    "print(z[3])\n",
    "\n",
    "# create a new variable called savvy, and assign it the string with this phrase \"Learning Data Analytics and Python is Awesome!\"\n",
    "savvy = \"Learning Data Analytics and Python is Awesome!\"\n",
    "\n",
    "# return a range of characters that slices the above string from the beginning of \"ing\" up to before \"and\"\n",
    "print(savvy[5:24])\n",
    "\n",
    "# Replace \"Awesome\" with \"great\" in the string\n",
    "print(savvy.replace(\"Awesome\",\"great\"))\n",
    "\n",
    "# Test and print the savvy string to see it contains \"Python\"\n",
    "if \"Python\" in savvy:\n",
    "    print(\"Yes. 'Python' is present.\")\n",
    "\n",
    "# Create and assign 3 more variables called name, age and length using the multi-variable naming method.\n",
    "name, age, length = [\"Nate\", \"41\", \"71 inches\"]\n",
    "\n",
    "# Format a new string called 'miniBio' using variables in curly brackets to complete this phrase... \"Hi my name is (name), I am (tall) and (so) old today.\"\n",
    "miniBio = \"Hi, my name is {}, I am {} tall, and {} years old today.\"\n",
    "\n",
    "# print 'miniBio'\n",
    "print(miniBio.format(name,length,age))\n",
    "# like this better\n",
    "print(f\"Hi, my name is {name}, I am {length} tall, and {age} years old today.\")\n",
    "\n",
    "# cast and print the age variable to a float.\n",
    "print(float(age))\n"
   ]
  },
  {
   "attachments": {},
   "cell_type": "markdown",
   "metadata": {},
   "source": [
    "___\n",
    "<div><img src=\"https://raw.githubusercontent.com/natep514/Homework/main/Images/savvy%20coders%20logo.jpg\" style=\"height:35px;object-fit:cover;\"></div>"
   ]
  }
 ],
 "metadata": {
  "kernelspec": {
   "display_name": "Python 3",
   "language": "python",
   "name": "python3"
  },
  "language_info": {
   "codemirror_mode": {
    "name": "ipython",
    "version": 3
   },
   "file_extension": ".py",
   "mimetype": "text/x-python",
   "name": "python",
   "nbconvert_exporter": "python",
   "pygments_lexer": "ipython3",
   "version": "3.10.10"
  },
  "orig_nbformat": 4,
  "vscode": {
   "interpreter": {
    "hash": "b0fa6594d8f4cbf19f97940f81e996739fb7646882a419484c72d19e05852a7e"
   }
  }
 },
 "nbformat": 4,
 "nbformat_minor": 2
}
