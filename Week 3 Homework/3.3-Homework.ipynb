{
 "cells": [
  {
   "attachments": {},
   "cell_type": "markdown",
   "metadata": {},
   "source": [
    "## 3.3 Python Homework\n",
    "___\n",
    "### Flow Control Methods\n",
    "___"
   ]
  },
  {
   "cell_type": "code",
   "execution_count": 5,
   "metadata": {},
   "outputs": [
    {
     "name": "stdout",
     "output_type": "stream",
     "text": [
      "Renting a car is very expensive\n"
     ]
    }
   ],
   "source": [
    "age = float(input(\"How old are you? \"))\n",
    "if age >= 25 :\n",
    "    print(\"Renting a car is more affortable\")\n",
    "else:\n",
    "    print(\"Renting a car is very expensive\")"
   ]
  },
  {
   "cell_type": "code",
   "execution_count": 15,
   "metadata": {},
   "outputs": [
    {
     "name": "stdout",
     "output_type": "stream",
     "text": [
      "Renting a car is more affortable\n"
     ]
    }
   ],
   "source": [
    "age = float(input(\"How old are you? \"))\n",
    "if age >= 25 :\n",
    "    print(\"Renting a car is more affortable\")\n",
    "elif age < 25 and age > 17 :\n",
    "    print(\"Renting a car is very expensive\")\n",
    "else :\n",
    "    print(\"You cannot legally rent a car.\")\n"
   ]
  }
 ],
 "metadata": {
  "kernelspec": {
   "display_name": "Python 3",
   "language": "python",
   "name": "python3"
  },
  "language_info": {
   "codemirror_mode": {
    "name": "ipython",
    "version": 3
   },
   "file_extension": ".py",
   "mimetype": "text/x-python",
   "name": "python",
   "nbconvert_exporter": "python",
   "pygments_lexer": "ipython3",
   "version": "3.11.1"
  },
  "orig_nbformat": 4,
  "vscode": {
   "interpreter": {
    "hash": "f724a366714f25b66fce619067dde66cfbb573861569ab468eca327aa4cfb241"
   }
  }
 },
 "nbformat": 4,
 "nbformat_minor": 2
}
