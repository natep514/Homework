{
 "cells": [
  {
   "attachments": {},
   "cell_type": "markdown",
   "metadata": {},
   "source": [
    "<div><img src=\"https://raw.githubusercontent.com/natep514/Homework/main/Images/savvy%20coders%20logo.jpg\" style=\"height:35px;object-fit:cover;\"></div>\n",
    "\n",
    "___\n",
    "# 3.3 Python Homework\n",
    "___\n",
    "<div><img src=\"https://raw.githubusercontent.com/natep514/Homework/main/Images/giphy.gif\" style=\"height:px;object-fit:cover;\"></div>\n",
    "\n",
    "___\n",
    "## Flow Control Methods\n",
    "___"
   ]
  },
  {
   "cell_type": "code",
   "execution_count": 1,
   "metadata": {},
   "outputs": [
    {
     "name": "stdout",
     "output_type": "stream",
     "text": [
      "Renting a car is very expensive\n"
     ]
    }
   ],
   "source": [
    "'''Create an if statement: if 'age' is greater than or \n",
    "# equal to 25, print \"Renting a car is more affordable\", \n",
    "# however if 'age' is less than 25, print \"Renting a car is very expensive.\"'''\n",
    "\n",
    "age = 17\n",
    "if age >= 25 :\n",
    "    print(\"Renting a car is more affortable\")\n",
    "else:\n",
    "    print(\"Renting a car is very expensive\")"
   ]
  },
  {
   "cell_type": "code",
   "execution_count": 1,
   "metadata": {},
   "outputs": [
    {
     "name": "stdout",
     "output_type": "stream",
     "text": [
      "Renting a car is very expensive\n"
     ]
    }
   ],
   "source": [
    "''' Create and chain an if-else statement: if 'age' is \n",
    "greater than or equal to 25, print \"Renting a car is more \n",
    "affordable.\" If 'age' is less than 25 but greater than or \n",
    "equal to 18, print \"Renting a car is very expensive.\" \n",
    "Finally, if age is less than 18, print \"You cannot legally rent a car.\"'''\n",
    "\n",
    "age = 19\n",
    "if age >= 25 :\n",
    "    print(\"Renting a car is more affortable\")\n",
    "elif age > 17 :\n",
    "    print(\"Renting a car is very expensive\")\n",
    "else :\n",
    "    print(\"You cannot legally rent a car.\")\n"
   ]
  },
  {
   "cell_type": "code",
   "execution_count": 24,
   "metadata": {},
   "outputs": [
    {
     "name": "stdout",
     "output_type": "stream",
     "text": [
      "43\n",
      "e\n",
      "u\n",
      "i\n",
      "o\n",
      "o\n",
      "u\n",
      "o\n",
      "e\n",
      "e\n",
      "a\n",
      "o\n"
     ]
    }
   ],
   "source": [
    "'''Loop over the following string to (1) count all the characters \n",
    " in the string and (2) print out all the vowels -- \"The quick brown \n",
    " fox jumps over the lazy dog\"'''\n",
    "\n",
    "alphabet = \"The quick brown fox jumps over the lazy dog\"\n",
    "sum = 0\n",
    "for char in alphabet:\n",
    "    sum = sum + 1\n",
    "print(sum)\n",
    "# isn't print(len(alphabet)) the same thing?\n",
    "\n",
    "for vowels in alphabet:\n",
    "    if vowels in \"aeiou\":\n",
    "        print(vowels)\n",
    "\n",
    "\n"
   ]
  },
  {
   "cell_type": "code",
   "execution_count": 18,
   "metadata": {},
   "outputs": [
    {
     "name": "stdout",
     "output_type": "stream",
     "text": [
      "gunmetal blue trousers\n",
      "gunmetal blue blouse\n",
      "gunmetal blue bandana\n",
      "gunmetal blue cumber band\n",
      "gunmetal blue blazer\n",
      "gunmetal blue vest\n",
      "gunmetal blue french beret\n",
      "gunmetal blue scarf\n",
      "gunmetal blue stole\n",
      "aqua trousers\n",
      "aqua blouse\n",
      "aqua bandana\n",
      "aqua cumber band\n",
      "aqua blazer\n",
      "aqua vest\n",
      "aqua french beret\n",
      "aqua scarf\n",
      "aqua stole\n",
      "Dark Sapphire trousers\n",
      "Dark Sapphire blouse\n",
      "Dark Sapphire bandana\n",
      "Dark Sapphire cumber band\n",
      "Dark Sapphire blazer\n",
      "Dark Sapphire vest\n",
      "Dark Sapphire french beret\n",
      "Dark Sapphire scarf\n",
      "Dark Sapphire stole\n",
      "maple trousers\n",
      "maple blouse\n",
      "maple bandana\n",
      "maple cumber band\n",
      "maple blazer\n",
      "maple vest\n",
      "maple french beret\n",
      "maple scarf\n",
      "maple stole\n",
      "auburn trousers\n",
      "auburn blouse\n",
      "auburn bandana\n",
      "auburn cumber band\n",
      "auburn blazer\n",
      "auburn vest\n",
      "auburn french beret\n",
      "auburn scarf\n",
      "auburn stole\n",
      "burnt sienna trousers\n",
      "burnt sienna blouse\n",
      "burnt sienna bandana\n",
      "burnt sienna cumber band\n",
      "burnt sienna blazer\n",
      "burnt sienna vest\n",
      "burnt sienna french beret\n",
      "burnt sienna scarf\n",
      "burnt sienna stole\n",
      "fuchsia trousers\n",
      "fuchsia blouse\n",
      "fuchsia bandana\n",
      "fuchsia cumber band\n",
      "fuchsia blazer\n",
      "fuchsia vest\n",
      "fuchsia french beret\n",
      "fuchsia scarf\n",
      "fuchsia stole\n",
      "cerise trousers\n",
      "cerise blouse\n",
      "cerise bandana\n",
      "cerise cumber band\n",
      "cerise blazer\n",
      "cerise vest\n",
      "cerise french beret\n",
      "cerise scarf\n",
      "cerise stole\n"
     ]
    }
   ],
   "source": [
    "'''Write a nested loop that prints out every piece of clothing from the couture list, in every fashionable color \n",
    "from the panettone set: couture = [\"trousers\", \"blouse\", \"bandana\", \"cumber band\", \"blazer\", \"vest\", \"french beret\", \"scarf\", \"stole\"] \n",
    "and panettone = {\"cerise\", \"fuchsia\", \"aqua\", \"maple\", \"auburn\", \"burnt sienna\", \"gunmetal blue\", \"Dark Sapphire\"}'''\n",
    "\n",
    "couture = [\"trousers\", \"blouse\", \"bandana\", \"cumber band\", \"blazer\", \"vest\", \"french beret\", \"scarf\", \"stole\"]\n",
    "panettone = {\"cerise\", \"fuchsia\", \"aqua\", \"maple\", \"auburn\", \"burnt sienna\", \"gunmetal blue\", \"Dark Sapphire\"}\n",
    "\n",
    "for x in panettone:\n",
    "    for y in couture:\n",
    "        print(x,y)"
   ]
  },
  {
   "cell_type": "code",
   "execution_count": 19,
   "metadata": {},
   "outputs": [
    {
     "name": "stdout",
     "output_type": "stream",
     "text": [
      "5050\n"
     ]
    }
   ],
   "source": [
    "# Use range as a loop to calculate the sum of all the numbers from 1 to 100\n",
    "\n",
    "x = 0\n",
    "for i in range(1, 101):\n",
    "    x = x + i\n",
    "\n",
    "print(x)"
   ]
  },
  {
   "attachments": {},
   "cell_type": "markdown",
   "metadata": {},
   "source": [
    "<div><img src=\"https://raw.githubusercontent.com/natep514/Homework/main/Images/giphy.webp\" style=\"height:px;object-fit:cover;\"></div>"
   ]
  },
  {
   "cell_type": "code",
   "execution_count": 20,
   "metadata": {},
   "outputs": [
    {
     "name": "stdout",
     "output_type": "stream",
     "text": [
      "banana\n"
     ]
    }
   ],
   "source": [
    "# Print the second item in this fruits list. [\"apple\", \"banana\", \"cherry\"]\n",
    "\n",
    "fruits = [\"apple\", \"banana\", \"cherry\"]\n",
    "print(fruits[1])"
   ]
  },
  {
   "cell_type": "code",
   "execution_count": 21,
   "metadata": {},
   "outputs": [
    {
     "name": "stdout",
     "output_type": "stream",
     "text": [
      "['kiwi', 'banana', 'cherry']\n"
     ]
    }
   ],
   "source": [
    "# Change the value from \"apple\" to \"kiwi\", in the fruits list. [\"apple\", \"banana\", \"cherry\"]\n",
    "\n",
    "fruits = [\"apple\", \"banana\", \"cherry\"]\n",
    "fruits[0] = \"kiwi\"\n",
    "print(fruits)"
   ]
  },
  {
   "cell_type": "code",
   "execution_count": 22,
   "metadata": {},
   "outputs": [
    {
     "name": "stdout",
     "output_type": "stream",
     "text": [
      "['apple', 'banana', 'cherry', 'orange']\n"
     ]
    }
   ],
   "source": [
    "# Use the append method to add \"orange\" to the fruits list. [\"apple\", \"banana\", \"cherry\"]\n",
    "\n",
    "fruits = [\"apple\", \"banana\", \"cherry\"]\n",
    "fruits.append(\"orange\")\n",
    "print(fruits)"
   ]
  },
  {
   "cell_type": "code",
   "execution_count": 23,
   "metadata": {},
   "outputs": [
    {
     "name": "stdout",
     "output_type": "stream",
     "text": [
      "['apple', 'lemon', 'banana', 'cherry']\n"
     ]
    }
   ],
   "source": [
    "# Use the insert method to add \"lemon\" as the second item in the fruits list. [\"apple\", \"banana\", \"cherry\"]\n",
    "\n",
    "fruits = [\"apple\", \"banana\", \"cherry\"]\n",
    "fruits.insert(1,\"lemon\")\n",
    "print(fruits)"
   ]
  },
  {
   "cell_type": "code",
   "execution_count": 24,
   "metadata": {},
   "outputs": [
    {
     "name": "stdout",
     "output_type": "stream",
     "text": [
      "['apple', 'cherry']\n"
     ]
    }
   ],
   "source": [
    "# Use the remove method to remove \"banana\" from the fruits list. [\"apple\", \"banana\", \"cherry\"]\n",
    "\n",
    "fruits = [\"apple\", \"banana\", \"cherry\"]\n",
    "fruits.remove(\"banana\")\n",
    "print(fruits)"
   ]
  },
  {
   "cell_type": "code",
   "execution_count": 25,
   "metadata": {},
   "outputs": [
    {
     "name": "stdout",
     "output_type": "stream",
     "text": [
      "['kiwi', 'melon']\n"
     ]
    }
   ],
   "source": [
    "# Use negative indexing to print the 3rd and 2nd to last items in the list. [\"apple\", \"banana\", \"cherry\", \"orange\", \"kiwi\", \"melon\", \"mango\"]\n",
    "\n",
    "fruits = [\"apple\", \"banana\", \"cherry\", \"orange\", \"kiwi\", \"melon\", \"mango\"]\n",
    "print(fruits[-3:-1])\n"
   ]
  },
  {
   "cell_type": "code",
   "execution_count": 26,
   "metadata": {},
   "outputs": [
    {
     "name": "stdout",
     "output_type": "stream",
     "text": [
      "['cherry', 'orange', 'kiwi']\n"
     ]
    }
   ],
   "source": [
    "# Use a range of indexes to print the third, fourth, and fifth item in the list. [\"apple\", \"banana\", \"cherry\", \"orange\", \"kiwi\", \"melon\", \"mango\"]\n",
    "\n",
    "fruits = [\"apple\", \"banana\", \"cherry\", \"orange\", \"kiwi\", \"melon\", \"mango\"]\n",
    "print(fruits[2:5])"
   ]
  },
  {
   "cell_type": "code",
   "execution_count": 27,
   "metadata": {},
   "outputs": [
    {
     "name": "stdout",
     "output_type": "stream",
     "text": [
      "Number of fruit in the list 7\n"
     ]
    }
   ],
   "source": [
    "# Use the correct syntax to print the number of items in the list. [\"apple\", \"banana\", \"cherry\", \"orange\", \"kiwi\", \"melon\", \"mango\"]\n",
    "\n",
    "fruits = [\"apple\", \"banana\", \"cherry\", \"orange\", \"kiwi\", \"melon\", \"mango\"]\n",
    "nof = len(fruits)\n",
    "print (\"Number of fruit in the list\", nof)"
   ]
  },
  {
   "cell_type": "code",
   "execution_count": 3,
   "metadata": {},
   "outputs": [
    {
     "name": "stdout",
     "output_type": "stream",
     "text": [
      "['orange', 'melon', 'mango', 'kiwi', 'cherry', 'banana', 'apple']\n"
     ]
    }
   ],
   "source": [
    "# Use the correct syntax to sort this list in reverse order [\"apple\", \"banana\", \"cherry\", \"orange\", \"kiwi\", \"melon\", \"mango\"]\n",
    "\n",
    "fruits = [\"apple\", \"banana\", \"cherry\", \"orange\", \"kiwi\", \"melon\", \"mango\"]\n",
    "fruits.sort(reverse=True)\n",
    "print(fruits)"
   ]
  },
  {
   "attachments": {},
   "cell_type": "markdown",
   "metadata": {},
   "source": [
    "___\n",
    "<div><img src=\"https://raw.githubusercontent.com/natep514/Homework/main/Images/savvy%20coders%20logo.jpg\" style=\"height:35px;object-fit:cover;\"></div>"
   ]
  }
 ],
 "metadata": {
  "kernelspec": {
   "display_name": "Python 3",
   "language": "python",
   "name": "python3"
  },
  "language_info": {
   "codemirror_mode": {
    "name": "ipython",
    "version": 3
   },
   "file_extension": ".py",
   "mimetype": "text/x-python",
   "name": "python",
   "nbconvert_exporter": "python",
   "pygments_lexer": "ipython3",
   "version": "3.11.1"
  },
  "orig_nbformat": 4,
  "vscode": {
   "interpreter": {
    "hash": "f724a366714f25b66fce619067dde66cfbb573861569ab468eca327aa4cfb241"
   }
  }
 },
 "nbformat": 4,
 "nbformat_minor": 2
}
