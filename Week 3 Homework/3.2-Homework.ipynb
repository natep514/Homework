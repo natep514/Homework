{
 "cells": [
  {
   "attachments": {},
   "cell_type": "markdown",
   "metadata": {},
   "source": [
    "<div><img src=\"https://raw.githubusercontent.com/natep514/Homework/main/Images/savvy%20coders%20logo.jpg\" style=\"height:35px;object-fit:cover;\"></div>\n",
    "\n",
    "___\n",
    "# 3.2 Python Homework\n",
    "---\n",
    "<div><img src=\"https://raw.githubusercontent.com/natep514/Homework/main/Images/cat.gif\" style=\"height:px;object-fit:cover;\"></div>\n",
    "\n",
    "---\n",
    "## Advanced / Compound Data Types\n",
    "---"
   ]
  },
  {
   "cell_type": "code",
   "execution_count": 1,
   "metadata": {},
   "outputs": [
    {
     "name": "stdout",
     "output_type": "stream",
     "text": [
      "7\n",
      "['Juno', 'Jinx', 4]\n",
      "['Batman', 'Dumb and Dumber', 'Gladiator', 'Happy Gilmore', 'The Departed']\n",
      "['Juno', 'Jinx', 4, 'Batman', 'Dumb and Dumber', 'Gladiator', 'Happy Gilmore', 'The Departed']\n"
     ]
    }
   ],
   "source": [
    "# Create a list of at least 5 elements of mixed data types\n",
    "cat1 = [\"Juno\", 4, 10.2, [\"Brown\", \"Black\", \"White\"], \"female\"]\n",
    "\n",
    "# replace a part of it with something else\n",
    "cat1[3] = [\"Brown\", \"Black\", \"Grey\"]\n",
    "\n",
    "# append or insert several more items to the list\n",
    "cat1.append(\"Jasper\")\n",
    "cat1.insert(1,\"Jinx\")\n",
    "\n",
    "# find and print the length of the list\n",
    "print(len(cat1))\n",
    "\n",
    "# slice a sub-section of the 1st list, and save it to a different 2nd list\n",
    "cats = cat1[0:3]\n",
    "\n",
    "# print the 2nd list\n",
    "print(cats)\n",
    "\n",
    "# extend your original list with the 2nd list sliced above\n",
    "cat1.extend(cats)\n",
    "\n",
    "# Create a new list called \"simList\" containing at least 5 elements of the same data type, either string, integer, float, or Boolean.\n",
    "simList = [\"Happy Gilmore\", \"The Departed\", \"Dumb and Dumber\", \"Gladiator\", \"Batman\"]\n",
    "\n",
    "# sort \"simList\", and print the list\n",
    "simList.sort()\n",
    "print(simList)\n",
    "\n",
    "# copy the \"simList\" list to another list\n",
    "newlist = simList.copy()\n",
    "\n",
    "# add the 2nd and 3rd lists together into a 4th list\n",
    "lastlist = cats + simList\n",
    "print(lastlist)\n",
    "\n",
    "\n"
   ]
  },
  {
   "cell_type": "code",
   "execution_count": 12,
   "metadata": {},
   "outputs": [
    {
     "name": "stdout",
     "output_type": "stream",
     "text": [
      "('Juno', 'Jasper', 'Jinx', 'Pepper', 'Simon', 'Juno', 'Jasper', 'Jinx', 'Pepper', 'Simon', 'Juno', 'Jasper', 'Jinx', 'Pepper', 'Simon')\n",
      "Jasper\n",
      "['Jasper', 'Jasper', 'Jasper', 'Jinx', 'Jinx', 'Jinx', 'Juno', 'Juno', 'Juno', 'Pepper', 'Pepper', 'Pepper', 'Simon', 'Simon', 'Simon']\n",
      "('Pepper', 'Simon', 'Juno', 'Jasper')\n",
      "Jasper Simon Juno Jasper\n",
      "(50,)\n",
      "('Juno', 'Jasper', 'Jinx', 'Pepper', 'Simon', 'Juno', 'Jasper', 'Jinx', 'Pepper', 'Simon', 'Juno', 'Jasper', 'Jinx', 'Pepper', 'Simon', 'Pepper', 'Simon', 'Juno', 'Jasper')\n"
     ]
    }
   ],
   "source": [
    "# Create a tuple of about 5 elements\n",
    "cat = (\"Juno\", \"Jasper\", \"Jinx\", \"Pepper\", \"Simon\")\n",
    "\n",
    "# multiply your tuple by 3 and save it to a new 2nd tuple\n",
    "cats = cat * 3\n",
    "\n",
    "# access and print the 12th element from the 2nd tuple\n",
    "print(cats[11])\n",
    "\n",
    "#sort the 2nd tuple and print it\n",
    "print(sorted(cats))\n",
    "\n",
    "# copy 4 specific elements from your 2nd tuple to a new 3nd tuple\n",
    "morecats = cats[3:7]\n",
    "\n",
    "# unpack the 3rd tuple into 4 variables and print these variables\n",
    "(angry , old, cuddler, angry) = morecats\n",
    "print(angry, old, cuddler, angry)\n",
    "\n",
    "# create a 4th tuple with single item 50 and print this tuple\n",
    "tuple4 = (50,)\n",
    "print(tuple4)\n",
    "\n",
    "#add the 2nd and 3rd tuple together into a 5th tuple and print the tuple\n",
    "tuple5 = cats + morecats\n",
    "print(tuple5)"
   ]
  },
  {
   "cell_type": "code",
   "execution_count": 1,
   "metadata": {},
   "outputs": [
    {
     "name": "stdout",
     "output_type": "stream",
     "text": [
      "{'running', 'orange', 'golf', 'pineapple', 'banana', 'movies'}\n",
      "{'monitor', 'remote control'}\n",
      "set()\n",
      "{'running', 'remote control', 'steering wheel', 'orange', 'golf', 'pineapple', 'banana', 'movies'}\n"
     ]
    }
   ],
   "source": [
    "# Create a set of about 3 elements\n",
    "hobbies = {\"golf\",\"movies\",\"running\"}\n",
    "\n",
    "# add a list of fruits to the above set and print the result\n",
    "fruits = [\"banana\", \"orange\", \"pineapple\"]\n",
    "hobbies.update(fruits)\n",
    "print(hobbies)\n",
    "\n",
    "# add a car element to your set\n",
    "hobbies.add(\"steering wheel\")\n",
    "\n",
    "#create a 2nd set with a few odd items\n",
    "odd_items = {\"remote control\", \"monitor\", \"clock\"}\n",
    "\n",
    "# save the union of 1st set and 2nd set to a 3rd set\n",
    "stuff = hobbies.union(odd_items)\n",
    "\n",
    "# pop an element from the 2nd set, and print the remainder of the set\n",
    "odd_items.pop()\n",
    "print(odd_items)\n",
    "\n",
    "# clear the 1st set and print the result\n",
    "hobbies.clear()\n",
    "print(hobbies)\n",
    "\n",
    "# discard an element, and remove another element from the 3rd set\n",
    "stuff.discard(\"monitor\")\n",
    "stuff.remove(\"clock\")\n",
    "\n",
    "# print the remainder of the 3rd set\n",
    "print(stuff)\n"
   ]
  },
  {
   "cell_type": "code",
   "execution_count": 4,
   "metadata": {},
   "outputs": [
    {
     "name": "stdout",
     "output_type": "stream",
     "text": [
      "Jasper\n",
      "dict_keys(['cat', 'age', 'colors', 'weight', 'lazy', 'favorite color', 'other cats'])\n",
      "dict_values(['Nathaniel', 10, ('Black', 'Brown', 'Tan', 'White'), 15.6, True, 'blue', ['Juno', 'Jinx']])\n",
      "{'age': 10, 'colors': ('Black', 'Brown', 'Tan', 'White'), 'weight': 15.6, 'lazy': True, 'favorite color': 'blue', 'other cats': ['Juno', 'Jinx']}\n",
      "{}\n"
     ]
    }
   ],
   "source": [
    "# Create a dictionary with at least 5 values of different data types\n",
    "newdict = {\n",
    "    \"cat\": \"Jasper\",\n",
    "    \"age\": 10,\n",
    "    \"colors\": (\"Black\", \"Brown\", \"Tan\", \"White\"),\n",
    "    \"weight\": 15.6,\n",
    "    \"lazy\": True\n",
    "}\n",
    "\n",
    "# print out 1 value\n",
    "print(newdict[\"cat\"])\n",
    "\n",
    "# replace any one value in your dictionary with your name\n",
    "newdict[\"cat\"] = \"Nathaniel\"\n",
    "\n",
    "# add your favorite color to the dictionary\n",
    "newdict[\"favorite color\"] = \"blue\"\n",
    "\n",
    "# add a list, tuple or set to your dictionary\n",
    "newdict[\"other cats\"] = [\"Juno\", \"Jinx\"]\n",
    "\n",
    "# print a list of the dictionary key\n",
    "print(newdict.keys())\n",
    "\n",
    "# print a list of the dictionary values\n",
    "print(newdict.values())\n",
    "\n",
    "# copy your 1st dictionary into a 2nd dictionary\n",
    "seconddict = newdict.copy()\n",
    "\n",
    "# pop an item from the 2nd dictionary, and print the dictionary\n",
    "seconddict.pop(\"cat\")\n",
    "print(seconddict)\n",
    "\n",
    "# remove all the elements from the 2nd dictionary and print the result\n",
    "seconddict.clear()\n",
    "print(seconddict)"
   ]
  },
  {
   "attachments": {},
   "cell_type": "markdown",
   "metadata": {},
   "source": [
    "___\n",
    "<div><img src=\"https://raw.githubusercontent.com/natep514/Homework/main/Images/savvy%20coders%20logo.jpg\" style=\"height:35px;object-fit:cover;\"></div>"
   ]
  }
 ],
 "metadata": {
  "kernelspec": {
   "display_name": "Python 3",
   "language": "python",
   "name": "python3"
  },
  "language_info": {
   "codemirror_mode": {
    "name": "ipython",
    "version": 3
   },
   "file_extension": ".py",
   "mimetype": "text/x-python",
   "name": "python",
   "nbconvert_exporter": "python",
   "pygments_lexer": "ipython3",
   "version": "3.10.10"
  },
  "orig_nbformat": 4,
  "vscode": {
   "interpreter": {
    "hash": "b0fa6594d8f4cbf19f97940f81e996739fb7646882a419484c72d19e05852a7e"
   }
  }
 },
 "nbformat": 4,
 "nbformat_minor": 2
}
