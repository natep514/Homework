{
 "cells": [
  {
   "attachments": {},
   "cell_type": "markdown",
   "metadata": {},
   "source": [
    "# 3.2 Python Homework\n",
    "---\n",
    "## Advanced / Compound Data Types\n",
    "---"
   ]
  },
  {
   "cell_type": "code",
   "execution_count": 14,
   "metadata": {},
   "outputs": [
    {
     "name": "stdout",
     "output_type": "stream",
     "text": [
      "['Juno', 4, 10.2, ['Brown', 'Black', 'White'], 'female']\n",
      "['Juno', 4, 10.2, ['Brown', 'Black', 'Grey'], 'female']\n",
      "['Juno', 'Jinx', 4, 10.2, ['Brown', 'Black', 'Grey'], 'female', 'Jasper']\n",
      "7\n",
      "['Juno', 'Jinx', 4]\n",
      "['Juno', 'Jinx', 4, 10.2, ['Brown', 'Black', 'Grey'], 'female', 'Jasper', 'Juno', 'Jinx', 4]\n",
      "['Batman', 'Dumb and Dumber', 'Gladiator', 'Happy Gilmore', 'The Departed']\n",
      "['Batman', 'Dumb and Dumber', 'Gladiator', 'Happy Gilmore', 'The Departed']\n",
      "['Juno', 'Jinx', 4, 'Batman', 'Dumb and Dumber', 'Gladiator', 'Happy Gilmore', 'The Departed']\n"
     ]
    }
   ],
   "source": [
    "# Create a list of at least 5 elements of mixed data types\n",
    "cat1 = [\"Juno\", 4, 10.2, [\"Brown\", \"Black\", \"White\"], \"female\"]\n",
    "print(cat1)\n",
    "# replace a part of it with something else\n",
    "cat1[3] = [\"Brown\", \"Black\", \"Grey\"]\n",
    "print(cat1)\n",
    "# append or insert several more items to the list\n",
    "cat1.append(\"Jasper\")\n",
    "cat1.insert(1,\"Jinx\")\n",
    "print(cat1)\n",
    "# find and print the length of the list\n",
    "print(len(cat1))\n",
    "# slice a sub-section of the 1st list, and save it to a different 2nd list\n",
    "cats = cat1[0:3]\n",
    "# print the 2nd list\n",
    "print(cats)\n",
    "# extend your original list with the 2nd list sliced above\n",
    "cat1.extend(cats)\n",
    "print(cat1)\n",
    "# Create a new list called \"simList\" containing at least 5 elements of the same data type, either string, integer, float, or Boolean.\n",
    "simList = [\"Happy Gilmore\", \"The Departed\", \"Dumb and Dumber\", \"Gladiator\", \"Batman\"]\n",
    "# sort \"simList\", and print the list\n",
    "simList.sort()\n",
    "print(simList)\n",
    "# copy the \"simList\" list to another list\n",
    "newlist = simList.copy()\n",
    "print(newlist)\n",
    "# add the 2nd and 3rd lists together into a 4th list\n",
    "lastlist = cats + simList\n",
    "print(lastlist)\n",
    "\n",
    "\n"
   ]
  },
  {
   "attachments": {},
   "cell_type": "markdown",
   "metadata": {},
   "source": [
    "Create a tuple of about 5 elements\n",
    "    - multiply your tuple by 3 and save it to a new 2nd tuple\n",
    "    - access and print the 12th element from the 2nd tuple\n",
    "    - sort the 2nd tuple and print it\n",
    "    - copy 4 specific elements from your 2nd tuple to a new 3nd tuple\n",
    "    - unpack the 3rd tuple into 4 variables and print these variables\n",
    "    - create a 4th tuple with single item 50 and print this tuple\n",
    "    - add the 2nd and 3rd tuple together into a 5th tuple and print the tuple"
   ]
  },
  {
   "cell_type": "code",
   "execution_count": null,
   "metadata": {},
   "outputs": [],
   "source": []
  },
  {
   "attachments": {},
   "cell_type": "markdown",
   "metadata": {},
   "source": [
    "Create a set of about 3 elements\n",
    "    - add a list of fruits to the above set and print the result\n",
    "    - add a car element to your set\n",
    "    - create a 2nd set with a few odd items\n",
    "    - save the union of 1st set and 2nd set to a 3rd set\n",
    "    - pop an element from the 2nd set, and print the remainder of the set\n",
    "    - clear the 1st set and print the result\n",
    "    - discard an element, and remove another element from the 3rd set\n",
    "    - print the remainder of the 3rd set"
   ]
  },
  {
   "cell_type": "code",
   "execution_count": null,
   "metadata": {},
   "outputs": [],
   "source": []
  },
  {
   "attachments": {},
   "cell_type": "markdown",
   "metadata": {},
   "source": [
    "Create a dictionary with at least 5 values of different data types\n",
    "    - print out 1 value\n",
    "    - replace any one value in your dictionary with your name\n",
    "    - add your favorite color to the dictionary\n",
    "    - add a list, tuple or set to your dictionary\n",
    "    - print a list of the dictionary keys\n",
    "    - print a list of the dictionary values\n",
    "    - copy your 1st dictionary into a 2nd dictionary\n",
    "    - pop an item from the 2nd dictionary, and print the dictionary\n",
    "    - remove all the elements from the 2nd dictionary and print the result"
   ]
  },
  {
   "cell_type": "code",
   "execution_count": null,
   "metadata": {},
   "outputs": [],
   "source": []
  }
 ],
 "metadata": {
  "kernelspec": {
   "display_name": "Python 3",
   "language": "python",
   "name": "python3"
  },
  "language_info": {
   "codemirror_mode": {
    "name": "ipython",
    "version": 3
   },
   "file_extension": ".py",
   "mimetype": "text/x-python",
   "name": "python",
   "nbconvert_exporter": "python",
   "pygments_lexer": "ipython3",
   "version": "3.11.1"
  },
  "orig_nbformat": 4,
  "vscode": {
   "interpreter": {
    "hash": "f724a366714f25b66fce619067dde66cfbb573861569ab468eca327aa4cfb241"
   }
  }
 },
 "nbformat": 4,
 "nbformat_minor": 2
}
