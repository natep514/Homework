{
 "cells": [
  {
   "attachments": {},
   "cell_type": "markdown",
   "metadata": {},
   "source": [
    "<div><img src=\"https://raw.githubusercontent.com/natep514/Homework/main/Images/savvy%20coders%20logo.jpg\" style=\"height:35px;object-fit:cover;\"></div>\n",
    "\n",
    "___\n",
    "# Week 3-1 Homework\n",
    "___\n",
    "\n",
    "<div><img src=\"https://raw.githubusercontent.com/natep514/Homework/main/Images/giphy.webp\" style=\"height:px;object-fit:cover;\"></div>\n",
    "\n",
    "___\n",
    "\n",
    "1. **What is an algorithm?**\n",
    "    * A series of steps to solve a problem at hand.\n",
    "2. **Why is Python considered to be a high-level language?**\n",
    "    * It is more like a natural language, takes less time to write, shorter and easier to read, and more likley to be correct/error free when we run them.\n",
    "3. **Is Python a Natural or a Formal Language?**\n",
    "    * A formal Language.\n",
    "4. **Variable names may not start with certain characters - name two**\n",
    "    * Numbers\n",
    "    * Symbols\n",
    "5. **What is a Semantic error?**\n",
    "    * Code is grammatically correct but doesn't make any sense; it does not produce expected results.\n",
    "6. **What is the #1 rule of coding/debugging?**\n",
    "    * Complexity is the enemy of efficiency.\n",
    "7.  **List 5 Python reserved words.**\n",
    "    * if\n",
    "    * else\n",
    "    * is\n",
    "    * return\n",
    "    * True/False\n",
    "8.  **Python Coding Article**\n",
    "    * https://www.section.io/engineering-education/why-python-is-essential-for-data-analysis/\n",
    "\n",
    "<div\n",
    "class=\"alert alert-info\">\"Without big data analytics, companies are blind and deaf, wandering out onto the web like deer on a freeway.”\n",
    "~ Geoffrey Moore, management consultant and author of Crossing the Chasm</div>\n",
    "\n",
    "<br />\n",
    "<br />\n",
    "<div><img src=\"https://raw.githubusercontent.com/natep514/Homework/main/Images/savvy%20coders%20logo.jpg\" style=\"height:35px;object-fit:cover;\"></div>"
   ]
  },
  {
   "cell_type": "code",
   "execution_count": 47,
   "metadata": {},
   "outputs": [
    {
     "name": "stdout",
     "output_type": "stream",
     "text": [
      "13\n",
      "o\n",
      "ing Data Analytics \n",
      "Learning Data Analytics and Python is great!\n",
      "Yes. 'Python' is present.\n",
      "Hi, my name is Nate, I am 71 inches tall, and 41 years old today.\n",
      "41.0\n"
     ]
    }
   ],
   "source": [
    "\"\"\"\n",
    "Name: Nathaniel Patten\n",
    "Favorite Food: Authentic Japanese Ramen\n",
    "Dream Job: Pro Golfer/Retired\n",
    "\"\"\"\n",
    "x = int(4.6)\n",
    "y = float(2)\n",
    "z = \"Juno is a cat\"\n",
    "a = [1,2,3,4,5]\n",
    "b = {1:\"Jasper, 2:Jinx\"}\n",
    "\n",
    "print(len(z))\n",
    "\n",
    "print(z[3])\n",
    "\n",
    "savvy = \"Learning Data Analytics and Python is Awesome!\"\n",
    "print(savvy[5:24])\n",
    "print(savvy.replace(\"Awesome\",\"great\"))\n",
    "if \"Python\" in savvy:\n",
    "    print(\"Yes. 'Python' is present.\")\n",
    "\n",
    "name, age, length = [\"Nate\", \"41\", \"71 inches\"]\n",
    "\n",
    "miniBio = \"Hi, my name is {}, I am {} tall, and {} years old today.\"\n",
    "\n",
    "print(miniBio.format(name,length,age))\n",
    "\n",
    "print(float(age))\n"
   ]
  },
  {
   "cell_type": "code",
   "execution_count": null,
   "metadata": {},
   "outputs": [],
   "source": []
  }
 ],
 "metadata": {
  "kernelspec": {
   "display_name": "Python 3",
   "language": "python",
   "name": "python3"
  },
  "language_info": {
   "codemirror_mode": {
    "name": "ipython",
    "version": 3
   },
   "file_extension": ".py",
   "mimetype": "text/x-python",
   "name": "python",
   "nbconvert_exporter": "python",
   "pygments_lexer": "ipython3",
   "version": "3.11.1"
  },
  "orig_nbformat": 4,
  "vscode": {
   "interpreter": {
    "hash": "f724a366714f25b66fce619067dde66cfbb573861569ab468eca327aa4cfb241"
   }
  }
 },
 "nbformat": 4,
 "nbformat_minor": 2
}
