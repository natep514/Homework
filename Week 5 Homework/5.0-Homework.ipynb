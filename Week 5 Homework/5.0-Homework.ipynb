{
 "cells": [
  {
   "attachments": {},
   "cell_type": "markdown",
   "metadata": {},
   "source": [
    "___\n",
    "# 5. Python Homework\n",
    "___\n",
    "\n",
    "1. What does Pandas stand for?\n",
    "    * Python Data Analysis Library\n",
    "2. What are the 2 collections used in Pandas?\n",
    "    * Series and Dataframes\n",
    "3. Name 4 things Pandas can do for us.\n",
    "    * Data Cleaning, Data Fill, Loading and Saving Data, and Data Inspection\n",
    "4. To permanently sort a DataFrame, which keyword should one use with the `df.sort()` method?\n",
    "    * `inplace=True`\n",
    "5. What is a CSV\n",
    "    * Comma Seperated Value\n",
    "6. When cleaning data what values do we not like in our data?\n",
    "    * Null\n"
   ]
  },
  {
   "cell_type": "code",
   "execution_count": 42,
   "metadata": {},
   "outputs": [
    {
     "name": "stdout",
     "output_type": "stream",
     "text": [
      "[[[16 25  2]\n",
      "  [11  4 13]]\n",
      "\n",
      " [[ 7 81  5]\n",
      "  [ 6 11 12]]]\n",
      "[16 25  2] [11  4 13] [ 7 81  5] [ 6 11 12]\n",
      "1\n",
      "[ 2  3  4  5  6  7 10 11 12 13 14 15 16 17 20 21 22 23 24 25 26 27]\n",
      "[ 3  4  5  6  7 10 11 12 13 14 15 16]\n",
      "[22 23 24 25 26 27]\n",
      "[ 0  1  2  3  4  5  6  7 10 11 12 13 14 15]\n",
      "[24 26]\n",
      "[27 22 15 10  3]\n"
     ]
    }
   ],
   "source": [
    "# Concatenate these 3 arrays into a new array named 'newArray'...\n",
    "import numpy as np\n",
    "\n",
    "ax = np.array([[25, 16]])\n",
    "ay = np.array([[11, 2], [13, 4]])\n",
    "az = np.array([[7, 81], [5, 6], [11, 12]])\n",
    "\n",
    "newArray = np.concatenate((ax, ay, az))\n",
    "\n",
    "# Sort 'newArray' in order into 'sortedArray'\n",
    "sortedArray = np.sort(newArray)\n",
    "\n",
    "# Reshape the 'sortedArray' array, into a new array called 'reshapedArray', \n",
    "# so it has 2 dimensions with a size of 2, 3.\n",
    "reshapedArray = np.reshape(sortedArray,(2, 2, 3))\n",
    "print(reshapedArray)\n",
    "\n",
    "# Unpack the array tuples from the above 'reshapedArray'  into 4 well named variables. \n",
    "# Print the 4 variables.\n",
    "a, b= reshapedArray\n",
    "a0, a1 = a\n",
    "b0, b1 = b\n",
    "print(a0, a1, b0, b1)\n",
    "\n",
    "# Combined and sort the following arrays into one called 'comboArray' ...\n",
    "one = ([10, 11, 12, 13, 14, 15, 16, 17])\n",
    "two = ([20, 21, 22, 23, 24, 25, 26, 27])\n",
    "three = ([ 0, 1, 2, 3, 4, 5, 6, 7])\n",
    "\n",
    "comboArray = np.sort(np.concatenate((one, two, three)))\n",
    "\n",
    "# Take 'comboArray' and perform the following slicing activities:\n",
    "# print sec1 - the 2nd element\n",
    "print(comboArray[1])\n",
    "# print sec2 - all elements from the 3rd element to the last\n",
    "print(comboArray[2:])\n",
    "# print sec3 - all elements from the 4th to the 14th elements\n",
    "print(comboArray[3:15])\n",
    "# print sec4 - the last 6 elements\n",
    "print(comboArray[-6:])\n",
    "# print sec5 - all element from #0 up to and including #15, using the negative number method, i.e. taking a section from the end.\n",
    "print(comboArray[:-10])    \n",
    "# print sec6 - from #20 every even element to the end\n",
    "print(comboArray[20::2])\n",
    "# print sec7 - from the last element moving forward, every 5th element.\n",
    "print(comboArray[-1::-5])"
   ]
  },
  {
   "cell_type": "code",
   "execution_count": 47,
   "metadata": {},
   "outputs": [
    {
     "name": "stdout",
     "output_type": "stream",
     "text": [
      "[[[-17.   -70.   -10.6 ]\n",
      "  [ -7.   -59.7   -0.69]]\n",
      "\n",
      " [[  3.   -49.98   9.4 ]\n",
      "  [ 13.   -39.    19.6 ]]\n",
      "\n",
      " [[ 23.4  -46.    29.3 ]\n",
      "  [ -2.   -54.5   14.8 ]]]\n",
      "[[[0.   0.   0.1 ]\n",
      "  [1.   1.3  1.01]]\n",
      "\n",
      " [[2.   2.02 2.1 ]\n",
      "  [0.   1.   0.3 ]]\n",
      "\n",
      " [[1.4  0.   1.  ]\n",
      "  [0.   0.5  1.5 ]]]\n",
      "[[[0.   0.   0.1 ]\n",
      "  [1.   1.3  1.01]]\n",
      "\n",
      " [[2.   2.02 2.1 ]\n",
      "  [0.   1.   0.3 ]]\n",
      "\n",
      " [[1.4  0.   1.  ]\n",
      "  [0.   0.5  1.5 ]]]\n"
     ]
    }
   ],
   "source": [
    "#Using simple math operations, broadcast the addition `(+)`, division `(/)`, and multiplication `(*)` operations for these 2 arrays --\n",
    "\n",
    "\n",
    "a1 = np.array([[[ 0.0,  0.0,  0.10], [10.0, 10.30, 10.01]],\n",
    "       [[20.0, 20.02, 20.10], [30.0, 31.0, 30.30]],\n",
    "        [[40.40, 24.0, 40.0], [15.0, 15.5, 25.5]]])\n",
    "\n",
    "a2 = np.array([[17.0, 70.0, 10.7]])\n",
    "\n",
    "\n",
    "# Use the NumPy Arithmetic functions to do the subtraction of the above two arrays in point #7.\n",
    "print(a1 - a2)\n",
    "\n",
    "# Using modulo find all elements that are divisible by 3 from the multi-dimensional array under point #7 above.\n",
    "print(a1 % 3)\n",
    "print(np.mod(a1, 3))"
   ]
  },
  {
   "cell_type": "code",
   "execution_count": 75,
   "metadata": {},
   "outputs": [
    {
     "name": "stdout",
     "output_type": "stream",
     "text": [
      "  Ingredients  Quantity   Unit\n",
      "0       Flour         4   cups\n",
      "1        Milk         1    cup\n",
      "2        Eggs         2  large\n",
      "3        Spam         1    can\n",
      "<class 'pandas.core.frame.DataFrame'>\n",
      "RangeIndex: 4 entries, 0 to 3\n",
      "Data columns (total 3 columns):\n",
      " #   Column       Non-Null Count  Dtype \n",
      "---  ------       --------------  ----- \n",
      " 0   Ingredients  4 non-null      object\n",
      " 1   Quantity     4 non-null      int64 \n",
      " 2   Unit         4 non-null      object\n",
      "dtypes: int64(1), object(2)\n",
      "memory usage: 224.0+ bytes\n"
     ]
    }
   ],
   "source": [
    "#Using `Series`, create a `DataFrame` that looks like this:\n",
    "\n",
    "#    | Ingredients | Quantity | Unit |\n",
    "#    |----|----|----|\n",
    "#    | Flour | 4 | cups |\n",
    "#    | Milk | 1 | cup |\n",
    "#    | Eggs | 2 | large |\n",
    "#    | Spam | 1 | can |\n",
    "\n",
    "#    Name: Dinner, dtype: object\n",
    "\n",
    "\n",
    "\n",
    "import pandas as pd\n",
    "\n",
    "Ingredients = pd.Series([\"Flour\", \"Milk\", \"Eggs\", \"Spam\"], name=\"Ingredients\")\n",
    "Quantity = pd.Series([4, 1, 2, 1], name =\"Quantity\")\n",
    "Unit = pd.Series([\"cups\", \"cup\", \"large\", \"can\"], name=\"Unit\")\n",
    "\n",
    "Dinner = pd.concat([Ingredients, Quantity, Unit], axis=1)\n",
    "\n",
    "print(Dinner)\n",
    "\n",
    "\n",
    "\n"
   ]
  },
  {
   "cell_type": "code",
   "execution_count": 80,
   "metadata": {},
   "outputs": [],
   "source": [
    "# Take this data and create a DataFrame named studentData\n",
    "import pandas as pd\n",
    "\n",
    "info =    {'Name': ['Jai', 'janusha', 'Gaurav', 'Anuj'],\n",
    "         'Height': [5.1, 6.2, 5.1, 5.2],\n",
    "         'Qualification': ['Msc', 'MA', 'Msc', 'Msc'],\n",
    "         'address': ['Delhi', 'Doha', 'Chennai', 'Dakhar'],\n",
    "         'Age': [21, 23, 24, 21],\n",
    "         'Pets': ['Dog', 'Bunny', 'Chinchilla', 'Parrot'],\n",
    "         'sport': ['Darts', 'Basketball', 'PaddleBoarding', 'Cricket']\n",
    "     }\n",
    " \n",
    "studentData = pd.DataFrame(info)\n",
    "\n",
    "\n",
    "# Add a new column to the DataFrame with the following deserts:\n",
    "#         [\"ice cream\", \"Cashew Fudge\", \"waffels\", \"Carrot Halwa\"]\n",
    "\n",
    "deserts = [\"ice cream\", \"Cashew Fudge\", \"waffels\", \"Carrot Halwa\"]\n",
    "studentData[\"deserts\"] = deserts\n",
    "\n",
    "# Sort the 'studentData' DataFrame in Ascending order -- Sorting by column 'Name' and then \"address\"\n",
    "studentData.sort_values(by = [\"Name\", \"address\"], inplace=True)\n",
    "\n",
    "# Save this `DataFrame` here below to disc as a `.CSV` file with the name `cows_and_goats.csv`:\n",
    "studentData.to_csv(\"cows_and_goats.csv\")"
   ]
  },
  {
   "cell_type": "code",
   "execution_count": null,
   "metadata": {},
   "outputs": [],
   "source": [
    "# (A) Using Pandas, make your own .CSV file with data on vegetables and save it. \n",
    "# (B) Using Pandas, make a change to your CSV file, and save a copy with a different name.\n"
   ]
  }
 ],
 "metadata": {
  "kernelspec": {
   "display_name": "Python 3",
   "language": "python",
   "name": "python3"
  },
  "language_info": {
   "codemirror_mode": {
    "name": "ipython",
    "version": 3
   },
   "file_extension": ".py",
   "mimetype": "text/x-python",
   "name": "python",
   "nbconvert_exporter": "python",
   "pygments_lexer": "ipython3",
   "version": "3.10.10"
  },
  "orig_nbformat": 4,
  "vscode": {
   "interpreter": {
    "hash": "b0fa6594d8f4cbf19f97940f81e996739fb7646882a419484c72d19e05852a7e"
   }
  }
 },
 "nbformat": 4,
 "nbformat_minor": 2
}
