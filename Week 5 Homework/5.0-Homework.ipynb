{
 "cells": [
  {
   "attachments": {},
   "cell_type": "markdown",
   "metadata": {},
   "source": [
    "___\n",
    "# 5. Python Homework\n",
    "___\n",
    "\n",
    "1. What does Pandas stand for?\n",
    "    * Python Data Analysis Library\n",
    "2. What are the 2 collections used in Pandas?\n",
    "    * Series and Dataframes\n",
    "3. Name 4 things Pandas can do for us.\n",
    "    * Data Cleaning, Data Fill, Loading and Saving Data, and Data Inspection\n",
    "4. To permanently sort a DataFrame, which keyword should one use with the `df.sort()` method?\n",
    "    * `.inplace()`\n",
    "5. What is a CSV\n",
    "    * Comma Seperated Value\n",
    "6. When cleaning data what values do we not like in our data?\n",
    "    * Null\n"
   ]
  },
  {
   "cell_type": "code",
   "execution_count": null,
   "metadata": {},
   "outputs": [],
   "source": [
    "# Concatenate these 3 arrays into a new array named 'newArray'...\n",
    "\n",
    "# ([[25, 16]])\n",
    "# ([[11, 2], [13, 4]])\n",
    "# ([[7, 81], [5, 6], [11, 12]])\n",
    "\n",
    "# Sort 'newArray' in order into 'sortedArray'\n",
    "\n",
    "# Reshape the 'sortedArray' array, into a new array called 'reshapedArray', \n",
    "# so it has 2 dimensions with a size of 2, 3.\n",
    "\n",
    "# Unpack the array tuples from the above 'reshapedArray'  into 4 well named variables. \n",
    "# Print the 4 variables.\n",
    "\n",
    "# Combined and sort the following arrays into one called 'comboArray' ...\n",
    "\n",
    "# one = ([10, 11, 12, 13, 14, 15, 16, 17])\n",
    "# two = ([20, 21, 22, 23, 24, 25, 26, 27])\n",
    "# three = ([ 0, 1, 2, 3, 4, 5, 6, 7])\n",
    "\n",
    "# Take 'comboArray' and perform the following slicing activities:\n",
    "#    - print sec1 - the 2nd element\n",
    "#    - print sec2 - all elements from the 3rd element to the last\n",
    "#    - print sec3 - all elements from the 4th to the 14th elements\n",
    "#    - print sec4 - the last 6 elements\n",
    "#    - print sec5 - all element from #0 up to and including #15, using the negative number method, i.e. taking a section from the end.\n",
    "#    - print sec6 - from #20 every even element to the end\n",
    "#    - print sec7 - from the last element moving forward, every 5th element."
   ]
  },
  {
   "cell_type": "code",
   "execution_count": null,
   "metadata": {},
   "outputs": [],
   "source": [
    "# Combined and sort the following arrays into one called 'comboArray' ...\n",
    "\n",
    "# one = ([10, 11, 12, 13, 14, 15, 16, 17])\n",
    "# two = ([20, 21, 22, 23, 24, 25, 26, 27])\n",
    "# three = ([ 0, 1, 2, 3, 4, 5, 6, 7])\n",
    "\n",
    "# Take 'comboArray' and perform the following slicing activities:\n",
    "#    - print sec1 - the 2nd element\n",
    "#    - print sec2 - all elements from the 3rd element to the last\n",
    "#    - print sec3 - all elements from the 4th to the 14th elements\n",
    "#    - print sec4 - the last 6 elements\n",
    "#    - print sec5 - all element from #0 up to and including #15, using the negative number method, i.e. taking a section from the end.\n",
    "#    - print sec6 - from #20 every even element to the end\n",
    "#    - print sec7 - from the last element moving forward, every 5th element."
   ]
  },
  {
   "cell_type": "code",
   "execution_count": null,
   "metadata": {},
   "outputs": [],
   "source": [
    "#Using simple math operations, broadcast the addition `(+)`, division `(/)`, and multiplication `(*)` operations for these 2 arrays --\n",
    "\n",
    "\n",
    "#    ([[[ 0.0,  0.0,  0.10], [10.0, 10.30, 10.01]],\n",
    "#        [[20.0, 20.02, 20.10], [30.0, 31.0, 30.30]],\n",
    "#        [[40.40, 24.0, 40.0], [15.0, 15.5, 25.5]]])\n",
    "#\n",
    "#    ([[17.0, 70.0, 10.7]])\n",
    "\n",
    "\n",
    "# Use the NumPy Arithmetic functions to do the subtraction of the above two arrays in pont #7.\n",
    "\n",
    "# Using modulo find all elements that are divisible by 3 from the multi-dimensional array under point #7 above."
   ]
  },
  {
   "cell_type": "code",
   "execution_count": null,
   "metadata": {},
   "outputs": [],
   "source": [
    "#Using `Series`, create a `DataFrame` that looks like this:\n",
    "\n",
    "#    | Ingredients | Quantity | Unit |\n",
    "#    |----|----|----|\n",
    "#    | Flour | 4 | cups |\n",
    "#    | Milk | 1 | cup |\n",
    "#    | Eggs | 2 | large |\n",
    "#    | Spam | 1 | can |\n",
    "\n",
    "#    Name: Dinner, dtype: object\n"
   ]
  },
  {
   "cell_type": "code",
   "execution_count": null,
   "metadata": {},
   "outputs": [],
   "source": [
    "# Take this data and create a DataFrame named studentData\n",
    "\n",
    "#     {'Name': ['Jai', 'janusha', 'Gaurav', 'Anuj'],\n",
    "#         'Height': [5.1, 6.2, 5.1, 5.2],\n",
    "#         'Qualification': ['Msc', 'MA', 'Msc', 'Msc'],\n",
    "#         'address': ['Delhi', 'Doha', 'Chennai', 'Dakhar'],\n",
    "#         'Age': [21, 23, 24, 21],\n",
    "#         'Pets': ['Dog', 'Bunny', 'Chinchilla', 'Parrot'],\n",
    "#         'sport': ['Darts', 'Basketball', 'PaddleBoarding', 'Cricket']\n",
    "#     }\n",
    "# \n",
    "\n",
    "\n",
    "\n",
    "# Add a new column to the DataFrame with the following deserts:\n",
    "#         [\"ice cream\", \"Cashew Fudge\", \"waffels\", \"Carrot Halwa\"]\n",
    "\n",
    "# Sort the 'studentData' DataFrame in Ascending order -- Sorting by column 'Name' and then \"address\"\n",
    "\n",
    "# Save this `DataFrame` here below to disc as a `.CSV` file with the name `cows_and_goats.csv`:"
   ]
  },
  {
   "cell_type": "code",
   "execution_count": null,
   "metadata": {},
   "outputs": [],
   "source": [
    "# (A) Using Pandas, make your own .CSV file with data on vegetables and save it. \n",
    "# (B) Using Pandas, make a change to your CSV file, and save a copy with a different name.\n"
   ]
  }
 ],
 "metadata": {
  "kernelspec": {
   "display_name": "Python 3",
   "language": "python",
   "name": "python3"
  },
  "language_info": {
   "name": "python",
   "version": "3.11.1"
  },
  "orig_nbformat": 4,
  "vscode": {
   "interpreter": {
    "hash": "f724a366714f25b66fce619067dde66cfbb573861569ab468eca327aa4cfb241"
   }
  }
 },
 "nbformat": 4,
 "nbformat_minor": 2
}
