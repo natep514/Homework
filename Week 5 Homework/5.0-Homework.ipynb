{
 "cells": [
  {
   "attachments": {},
   "cell_type": "markdown",
   "metadata": {},
   "source": [
    "<div><img src=\"https://raw.githubusercontent.com/natep514/Homework/main/Images/savvy%20coders%20logo.jpg\" style=\"height:35px;object-fit:cover;\"></div>\n",
    "\n",
    "___\n",
    "# 5 Python Homework\n",
    "___\n",
    "\n",
    "<div><img src=\"https://raw.githubusercontent.com/natep514/Homework/main/Images/cat4.gif\" style=\"height:px;object-fit:cover;\"></div>\n",
    "\n",
    "___\n",
    "\n",
    "1. What does Pandas stand for?\n",
    "    * Python Data Analysis Library.  Derived from the term \"Panel Data\".\n",
    "2. What are the 2 collections used in Pandas?\n",
    "    * Series and Dataframes\n",
    "3. Name 4 things Pandas can do for us.\n",
    "    * Data Cleaning, Data Fill, Loading and Saving Data, and Data Inspection\n",
    "4. To permanently sort a DataFrame, which keyword should one use with the `df.sort()` method?\n",
    "    * `inplace=True`\n",
    "5. What is a CSV\n",
    "    * Comma Seperated Value file\n",
    "6. When cleaning data what values do we not like in our data?\n",
    "    * Null\n"
   ]
  },
  {
   "cell_type": "code",
   "execution_count": 28,
   "metadata": {},
   "outputs": [
    {
     "name": "stdout",
     "output_type": "stream",
     "text": [
      "[[[16 25  2]\n",
      "  [11  4 13]]\n",
      "\n",
      " [[ 7 81  5]\n",
      "  [ 6 11 12]]]\n",
      "[16 25  2] [11  4 13] [ 7 81  5] [ 6 11 12]\n",
      "1\n",
      "[ 2  3  4  5  6  7 10 11 12 13 14 15 16 17 20 21 22 23 24 25 26 27]\n",
      "[ 3  4  5  6  7 10 11 12 13 14 15 16]\n",
      "[22 23 24 25 26 27]\n",
      "[ 0  1  2  3  4  5  6  7 10 11 12 13 14 15]\n",
      "[20 22 24 26]\n",
      "[27 22 15 10  3]\n"
     ]
    }
   ],
   "source": [
    "# Concatenate these 3 arrays into a new array named 'newArray'...\n",
    "import numpy as np\n",
    "\n",
    "ax = np.array([[25, 16]])\n",
    "ay = np.array([[11, 2], [13, 4]])\n",
    "az = np.array([[7, 81], [5, 6], [11, 12]])\n",
    "\n",
    "newArray = np.concatenate((ax, ay, az))\n",
    "\n",
    "# Sort 'newArray' in order into 'sortedArray'\n",
    "sortedArray = np.sort(newArray)\n",
    "\n",
    "# Reshape the 'sortedArray' array, into a new array called 'reshapedArray', \n",
    "# so it has 2 dimensions with a size of 2, 3.\n",
    "reshapedArray = np.reshape(sortedArray,(2, 2, 3))\n",
    "print(reshapedArray)\n",
    "\n",
    "# Unpack the array tuples from the above 'reshapedArray'  into 4 well named variables. \n",
    "# Print the 4 variables.\n",
    "a, b= reshapedArray\n",
    "a0, a1 = a\n",
    "b0, b1 = b\n",
    "print(a0, a1, b0, b1)\n",
    "\n",
    "# Combined and sort the following arrays into one called 'comboArray' ...\n",
    "one = ([10, 11, 12, 13, 14, 15, 16, 17])\n",
    "two = ([20, 21, 22, 23, 24, 25, 26, 27])\n",
    "three = ([ 0, 1, 2, 3, 4, 5, 6, 7])\n",
    "\n",
    "comboArray = np.sort(np.concatenate((one, two, three)))\n",
    "\n",
    "# Take 'comboArray' and perform the following slicing activities:\n",
    "# print sec1 - the 2nd element\n",
    "print(comboArray[1])\n",
    "# print sec2 - all elements from the 3rd element to the last\n",
    "print(comboArray[2:])\n",
    "# print sec3 - all elements from the 4th to the 14th elements\n",
    "print(comboArray[3:15])\n",
    "# print sec4 - the last 6 elements\n",
    "print(comboArray[-6:])\n",
    "# print sec5 - all element from #0 up to and including #15, using the negative number method, i.e. taking a section from the end.\n",
    "print(comboArray[:-10])    \n",
    "# print sec6 - from #20 every even element to the end\n",
    "print(comboArray[16::2])\n",
    "# print sec7 - from the last element moving forward, every 5th element.\n",
    "print(comboArray[-1::-5])"
   ]
  },
  {
   "cell_type": "code",
   "execution_count": 7,
   "metadata": {},
   "outputs": [
    {
     "name": "stdout",
     "output_type": "stream",
     "text": [
      "[[[ 17.    70.    10.8 ]\n",
      "  [ 27.    80.3   20.71]]\n",
      "\n",
      " [[ 37.    90.02  30.8 ]\n",
      "  [ 47.   101.    41.  ]]\n",
      "\n",
      " [[ 57.4   94.    50.7 ]\n",
      "  [ 32.    85.5   36.2 ]]]\n",
      "[[[0.         0.         0.00934579]\n",
      "  [0.58823529 0.14714286 0.93551402]]\n",
      "\n",
      " [[1.17647059 0.286      1.87850467]\n",
      "  [1.76470588 0.44285714 2.8317757 ]]\n",
      "\n",
      " [[2.37647059 0.34285714 3.73831776]\n",
      "  [0.88235294 0.22142857 2.38317757]]]\n",
      "[[[0.00000e+00 0.00000e+00 1.07000e+00]\n",
      "  [1.70000e+02 7.21000e+02 1.07107e+02]]\n",
      "\n",
      " [[3.40000e+02 1.40140e+03 2.15070e+02]\n",
      "  [5.10000e+02 2.17000e+03 3.24210e+02]]\n",
      "\n",
      " [[6.86800e+02 1.68000e+03 4.28000e+02]\n",
      "  [2.55000e+02 1.08500e+03 2.72850e+02]]]\n",
      "[[[-17.   -70.   -10.6 ]\n",
      "  [ -7.   -59.7   -0.69]]\n",
      "\n",
      " [[  3.   -49.98   9.4 ]\n",
      "  [ 13.   -39.    19.6 ]]\n",
      "\n",
      " [[ 23.4  -46.    29.3 ]\n",
      "  [ -2.   -54.5   14.8 ]]]\n",
      "[ 0.  0. 30. 24. 15.]\n"
     ]
    }
   ],
   "source": [
    "#Using simple math operations, broadcast the addition `(+)`, division `(/)`, and multiplication `(*)` operations for these 2 arrays --\n",
    "import numpy as np\n",
    "\n",
    "a1 = np.array([[[ 0.0,  0.0,  0.10], [10.0, 10.30, 10.01]],\n",
    "       [[20.0, 20.02, 20.10], [30.0, 31.0, 30.30]],\n",
    "        [[40.40, 24.0, 40.0], [15.0, 15.5, 25.5]]])\n",
    "\n",
    "a2 = np.array([[17.0, 70.0, 10.7]])\n",
    "\n",
    "print(a1 + a2)\n",
    "print(a1 / a2)\n",
    "print(a1 * a2)\n",
    "\n",
    "\n",
    "# Use the NumPy Arithmetic functions to do the subtraction of the above two arrays in point #7.\n",
    "print(np.subtract(a1, a2))\n",
    "\n",
    "# Using modulo find all elements that are divisible by 3 from the multi-dimensional array under point #7 above.\n",
    "print(a1[a1 % 3 == 0])"
   ]
  },
  {
   "cell_type": "code",
   "execution_count": 88,
   "metadata": {},
   "outputs": [
    {
     "name": "stdout",
     "output_type": "stream",
     "text": [
      "  Ingredients Quantity   Unit\n",
      "0       Flour        4   cups\n",
      "1        Milk        1    cup\n",
      "2        Eggs        2  large\n",
      "3        Spam        1    can\n"
     ]
    }
   ],
   "source": [
    "#Using `Series`, create a `DataFrame` that looks like this:\n",
    "\n",
    "#    | Ingredients | Quantity | Unit |\n",
    "#    |----|----|----|\n",
    "#    | Flour | 4 | cups |\n",
    "#    | Milk | 1 | cup |\n",
    "#    | Eggs | 2 | large |\n",
    "#    | Spam | 1 | can |\n",
    "\n",
    "#    Name: Dinner, dtype: object\n",
    "\n",
    "\n",
    "\n",
    "import pandas as pd\n",
    "\n",
    "Ingredients = pd.Series([\"Flour\", \"Milk\", \"Eggs\", \"Spam\"], name=\"Ingredients\")\n",
    "Quantity = pd.Series([\"4\", \"1\", \"2\", \"1\"], name =\"Quantity\")\n",
    "Unit = pd.Series([\"cups\", \"cup\", \"large\", \"can\"], name=\"Unit\")\n",
    "\n",
    "Dinner = pd.concat([Ingredients, Quantity, Unit], axis=1)\n",
    "\n",
    "\n",
    "print(Dinner)\n",
    "\n",
    "\n",
    "\n"
   ]
  },
  {
   "cell_type": "code",
   "execution_count": 24,
   "metadata": {},
   "outputs": [],
   "source": [
    "# Take this data and create a DataFrame named studentData\n",
    "import pandas as pd\n",
    "\n",
    "info =    {'Name': ['Jai', 'janusha', 'Gaurav', 'Anuj'],\n",
    "         'Height': [5.1, 6.2, 5.1, 5.2],\n",
    "         'Qualification': ['Msc', 'MA', 'Msc', 'Msc'],\n",
    "         'address': ['Delhi', 'Doha', 'Chennai', 'Dakhar'],\n",
    "         'Age': [21, 23, 24, 21],\n",
    "         'Pets': ['Dog', 'Bunny', 'Chinchilla', 'Parrot'],\n",
    "         'sport': ['Darts', 'Basketball', 'PaddleBoarding', 'Cricket']\n",
    "     }\n",
    " \n",
    "studentData = pd.DataFrame(info)\n",
    "\n",
    "\n",
    "# Add a new column to the DataFrame with the following deserts:\n",
    "#         [\"ice cream\", \"Cashew Fudge\", \"waffels\", \"Carrot Halwa\"]\n",
    "\n",
    "deserts = [\"ice cream\", \"Cashew Fudge\", \"waffels\", \"Carrot Halwa\"]\n",
    "studentData[\"deserts\"] = deserts\n",
    "\n",
    "# Sort the 'studentData' DataFrame in Ascending order -- Sorting by column 'Name' and then \"address\"\n",
    "studentData.sort_values(by = [\"Name\", \"address\"], inplace=True)\n",
    "\n",
    "# Save this `DataFrame` here below to disc as a `.CSV` file with the name `cows_and_goats.csv`:\n",
    "studentData.to_csv(\"cows_and_goats.csv\")"
   ]
  },
  {
   "cell_type": "code",
   "execution_count": 26,
   "metadata": {},
   "outputs": [
    {
     "data": {
      "text/plain": [
       "None"
      ]
     },
     "metadata": {},
     "output_type": "display_data"
    }
   ],
   "source": [
    "import pandas as pd\n",
    "\n",
    "# (A) Using Pandas, make your own .CSV file with data on vegetables and save it. \n",
    "info = {'Vegetable': ['Carrot', 'Broccoli', 'Peas', 'Tomato', 'Onion'], 'Color': ['Orange', 'Green', 'Green', 'Red', 'White']}\n",
    "veggies = pd.DataFrame(info)\n",
    "veggies.to_csv('Vegetables.csv')\n",
    "\n",
    "\n",
    "# (B) Using Pandas, make a change to your CSV file, and save a copy with a different name.\n",
    "veggiesnew = pd.read_csv('Vegetables.csv', delimiter=\",\", index_col=0)\n",
    "veggiesnew.sort_values(by = [\"Vegetable\"], inplace=True)\n",
    "display(veggiesnew.drop_duplicates(subset=\"Color\", inplace=True))\n",
    "veggiesnew.to_csv('Cleaned_Vegetables.csv')\n"
   ]
  },
  {
   "attachments": {},
   "cell_type": "markdown",
   "metadata": {},
   "source": [
    "<div><img src=\"https://raw.githubusercontent.com/natep514/Homework/main/Images/savvy%20coders%20logo.jpg\" style=\"height:35px;object-fit:cover;\"></div>"
   ]
  }
 ],
 "metadata": {
  "kernelspec": {
   "display_name": "Python 3",
   "language": "python",
   "name": "python3"
  },
  "language_info": {
   "codemirror_mode": {
    "name": "ipython",
    "version": 3
   },
   "file_extension": ".py",
   "mimetype": "text/x-python",
   "name": "python",
   "nbconvert_exporter": "python",
   "pygments_lexer": "ipython3",
   "version": "3.10.10"
  },
  "orig_nbformat": 4,
  "vscode": {
   "interpreter": {
    "hash": "b0fa6594d8f4cbf19f97940f81e996739fb7646882a419484c72d19e05852a7e"
   }
  }
 },
 "nbformat": 4,
 "nbformat_minor": 2
}
