{
 "cells": [
  {
   "attachments": {},
   "cell_type": "markdown",
   "metadata": {},
   "source": [
    "<div><img src=\"https://raw.githubusercontent.com/natep514/Homework/main/Images/savvy%20coders%20logo.jpg\" style=\"height:35px;object-fit:cover;\"></div>\n",
    "\n",
    "___\n",
    "# 4 Python Homework\n",
    "___\n",
    "\n",
    "<div><img src=\"https://raw.githubusercontent.com/natep514/Homework/main/Images/coding.gif\" style=\"height:px;object-fit:cover;\"></div>\n",
    "\n",
    "___\n",
    "\n",
    "\n",
    "1. **What does one need to do to use a module?**\n",
    "    * adfasf\n",
    "2. **Name a Module (not the DateTime Nodule) we looked at and write a line or 2 of code as an example using this module.**\n",
    "    * adfasf \n",
    "3. **What is a benefit of using Exception handling?**\n",
    "    * adfasf\n",
    "4. **NumPy arrays are like what Python data type?**\n",
    "    * adfasf\n",
    "5. **What is one of the main benefits of using NumPy arrays.**\n",
    "    * adfasf\n",
    "6. **What is one of the main requirements about the 'dtype' of NumPy arrays?**\n",
    "    * adfasf\n",
    "7. **Of the 10 uses of NumPy, name 2.**\n",
    "    * adfasf\n",
    "8. **Name one of the other libraries we'll use with NumPy?**\n",
    "    * adfasf\n",
    "9.  **What is the shape of NumPy arrays?**\n",
    "    * adfasf\n",
    "10. **What is a Tensor?**\n",
    "    * adfasf\n",
    "11. **Name a reason why it's better using NumPy for Data Analysis than using a Python List?**\n",
    "    * adfasf\n",
    "12. **When creating an \"empty\" array, where do the elements come from?**\n",
    "    * adfasf\n",
    "___\n",
    "\n",
    "<div\n",
    "class=\"alert alert-info\">\"Data analytics is the future, and the future is NOW! Every mouse click, keyboard button press, swipe or tap is used to shape business decisions. Everything is about data these days. Data is information, and information is power.”\n",
    "~ Radi, data analyst at CENTOGENE</div>"
   ]
  }
 ],
 "metadata": {
  "kernelspec": {
   "display_name": "Python 3",
   "language": "python",
   "name": "python3"
  },
  "language_info": {
   "name": "python",
   "version": "3.11.1"
  },
  "orig_nbformat": 4,
  "vscode": {
   "interpreter": {
    "hash": "f724a366714f25b66fce619067dde66cfbb573861569ab468eca327aa4cfb241"
   }
  }
 },
 "nbformat": 4,
 "nbformat_minor": 2
}
