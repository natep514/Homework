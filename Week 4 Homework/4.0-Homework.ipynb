{
 "cells": [
  {
   "attachments": {},
   "cell_type": "markdown",
   "metadata": {},
   "source": [
    "<div><img src=\"https://raw.githubusercontent.com/natep514/Homework/main/Images/savvy%20coders%20logo.jpg\" style=\"height:35px;object-fit:cover;\"></div>\n",
    "\n",
    "___\n",
    "# 4 Python Homework\n",
    "___\n",
    "\n",
    "<div><img src=\"https://raw.githubusercontent.com/natep514/Homework/main/Images/cat2.gif\" style=\"height:px;object-fit:cover;\"></div>\n",
    "\n",
    "___\n",
    "\n",
    "\n",
    "1. **What does one need to do to use a module?**\n",
    "    * You have to import the module. </br>\n",
    "2. **Name a Module (not the DateTime Nodule) we looked at and write a line or 2 of code as an example using this module.**\n",
    "    * Random\n",
    "``` py\n",
    "import random\n",
    "\n",
    "rps = random.randrange(1,4)\n",
    "if rps == 1 :\n",
    "    print('Scissors')\n",
    "elif rps == 2 :\n",
    "    print('Rock')\n",
    "else :\n",
    "    print('Paper')\n",
    "```    \n",
    "3. **What is a benefit of using Exception handling?**\n",
    "    * Will allow code to run even if an error or exception occurs.\n",
    "4. **NumPy arrays are like what Python data type?**\n",
    "    * Lists\n",
    "5. **What is one of the main benefits of using NumPy arrays.**\n",
    "    * Uses less memory.\n",
    "6. **What is one of the main requirements about the 'dtype' of NumPy arrays?**\n",
    "    * Has to be the same data type.\n",
    "7. **Of the 10 uses of NumPy, name 2.**\n",
    "    * Copying & viewing arrays and Mathematic operations.\n",
    "8. **Name one of the other libraries we'll use with NumPy?**\n",
    "    * Pandas\n",
    "9.  **What is the shape of NumPy arrays?**\n",
    "    * Multidimensional unless it's a vector.\n",
    "10. **What is a Tensor?**\n",
    "    * An array with 3+ dimensions\n",
    "11. **Name a reason why it's better using NumPy for Data Analysis than using a Python List?**\n",
    "    * Numpy is faster than Python Lists\n",
    "12. **When creating an \"empty\" array, where do the elements come from?**\n",
    "    * Initially it's random and depends on the state of the memory.\n",
    "___\n",
    "\n",
    "<div\n",
    "class=\"alert alert-info\">\"Data analytics is the future, and the future is NOW! Every mouse click, keyboard button press, swipe or tap is used to shape business decisions. Everything is about data these days. Data is information, and information is power.”\n",
    "~ Radi, data analyst at CENTOGENE</div>"
   ]
  },
  {
   "cell_type": "code",
   "execution_count": 2,
   "metadata": {},
   "outputs": [
    {
     "name": "stdout",
     "output_type": "stream",
     "text": [
      "February\n"
     ]
    }
   ],
   "source": [
    "'''\n",
    "Use the DateTime module to get Current Date and Time, and save it to a variable. \n",
    "Then extract just the Full month name form that variable.\n",
    "'''\n",
    "\n",
    "import datetime as dt\n",
    "\n",
    "currentdt = dt.datetime.now()\n",
    "print(currentdt.strftime(\"%B\"))\n",
    "\n"
   ]
  },
  {
   "cell_type": "code",
   "execution_count": 1,
   "metadata": {},
   "outputs": [
    {
     "name": "stdout",
     "output_type": "stream",
     "text": [
      "Hi, Nate ! Happy Friday !\n",
      "Hi, Nate ! Happy Sunday !\n"
     ]
    }
   ],
   "source": [
    "''' \n",
    "Write a simple function that takes 2 parameters -- a first name and a day name.\n",
    "\n",
    "Set a default value for the day name of Sunday.\n",
    "Have the function print out a greeting -- using the parameters -- that says something like \n",
    "\"Hi first-name! Happy day-name!\". \n",
    "Remember to use the variables in the greeting to replace first-name and day-name.\n",
    "Invoke this function with 2 variables.\n",
    "Invoke this function with 1 variable only.\n",
    "'''\n",
    "\n",
    "import datetime as dt\n",
    "current = dt.datetime.now()\n",
    "\n",
    "def nameday(name,day = \"Sunday\"):\n",
    "    print(\"Hi,\", name,\"! Happy\", day, \"!\")\n",
    "    \n",
    "nameday(\"Nate\", \"Friday\")\n",
    "nameday(\"Nate\")\n",
    "\n",
    "# nameday(\"Nate\", current.strftime(\"%A\"))\n",
    "\n",
    "\n",
    "\n"
   ]
  },
  {
   "cell_type": "code",
   "execution_count": 2,
   "metadata": {},
   "outputs": [
    {
     "name": "stdout",
     "output_type": "stream",
     "text": [
      "Array dimensions / axes ... 3\n",
      "[[[ 0  1]\n",
      "  [ 2  3]\n",
      "  [ 4  5]]\n",
      "\n",
      " [[ 6  7]\n",
      "  [ 8  9]\n",
      "  [10 11]]]\n"
     ]
    }
   ],
   "source": [
    "'''\n",
    "Import NumPy, use one of the NumPy methods and create an array with a shape of ... (2, 3, 2). \n",
    "You can use the reshape method -- .reshape()\n",
    "'''\n",
    "\n",
    "import numpy as np\n",
    "\n",
    "a_3d = np.arange(12).reshape((2, 3, 2))\n",
    "print(\"Array dimensions / axes ...\", a_3d.ndim)\n",
    "print(a_3d)\n"
   ]
  },
  {
   "cell_type": "code",
   "execution_count": 4,
   "metadata": {},
   "outputs": [
    {
     "name": "stdout",
     "output_type": "stream",
     "text": [
      "[ 0.  4.  8. 12. 16. 20.]\n"
     ]
    }
   ],
   "source": [
    "# Use NumPy .linspace() to create an array with 6 linearly spaced values between 0 and 20\n",
    "\n",
    "import numpy as np\n",
    "\n",
    "spaced = np.linspace(0, 20, num=6)\n",
    "print(spaced)\n"
   ]
  },
  {
   "cell_type": "code",
   "execution_count": 5,
   "metadata": {},
   "outputs": [],
   "source": [
    "# Make a Deep Copy of the above array you created.\n",
    "\n",
    "import copy\n",
    "\n",
    "spaced1 = copy.deepcopy(spaced)"
   ]
  },
  {
   "attachments": {},
   "cell_type": "markdown",
   "metadata": {},
   "source": [
    "\n",
    "* What are 2 reasons we use NumPy arrays over Python Lists?\n",
    "    * Less memory and faster.\n",
    "___\n",
    "<div><img src=\"https://raw.githubusercontent.com/natep514/Homework/main/Images/savvy%20coders%20logo.jpg\" style=\"height:35px;object-fit:cover;\"></div>"
   ]
  }
 ],
 "metadata": {
  "kernelspec": {
   "display_name": "Python 3",
   "language": "python",
   "name": "python3"
  },
  "language_info": {
   "codemirror_mode": {
    "name": "ipython",
    "version": 3
   },
   "file_extension": ".py",
   "mimetype": "text/x-python",
   "name": "python",
   "nbconvert_exporter": "python",
   "pygments_lexer": "ipython3",
   "version": "3.11.1"
  },
  "orig_nbformat": 4,
  "vscode": {
   "interpreter": {
    "hash": "f724a366714f25b66fce619067dde66cfbb573861569ab468eca327aa4cfb241"
   }
  }
 },
 "nbformat": 4,
 "nbformat_minor": 2
}
